{
  "nbformat": 4,
  "nbformat_minor": 0,
  "metadata": {
    "colab": {
      "provenance": [],
      "authorship_tag": "ABX9TyN081ZxYNGTnza78h6/WCYS",
      "include_colab_link": true
    },
    "kernelspec": {
      "name": "python3",
      "display_name": "Python 3"
    },
    "language_info": {
      "name": "python"
    }
  },
  "cells": [
    {
      "cell_type": "markdown",
      "metadata": {
        "id": "view-in-github",
        "colab_type": "text"
      },
      "source": [
        "<a href=\"https://colab.research.google.com/github/Jasmine-Bejoy/MyCaptain_AI_Assignment-/blob/main/Pythonassignmentlist.ipynb\" target=\"_parent\"><img src=\"https://colab.research.google.com/assets/colab-badge.svg\" alt=\"Open In Colab\"/></a>"
      ]
    },
    {
      "cell_type": "code",
      "execution_count": null,
      "metadata": {
        "colab": {
          "base_uri": "https://localhost:8080/"
        },
        "id": "o6j_GSdxdn0h",
        "outputId": "b022ccdb-5a6b-451e-a3c8-1f9a4d2d2cb8"
      },
      "outputs": [
        {
          "output_type": "stream",
          "name": "stdout",
          "text": [
            "[12, 5, 64]\n",
            "[12, 14, 3]\n"
          ]
        }
      ],
      "source": [
        "list1 = [12,-7,5,64,-14]\n",
        "list2 = [12,14,-95,3]\n",
        "Positive_number1 = [num for num in list1 if num>0]\n",
        "Positive_number2 = [num for num in list2 if num>0]\n",
        "print(Positive_number1 )\n",
        "print(Positive_number2)"
      ]
    }
  ]
}