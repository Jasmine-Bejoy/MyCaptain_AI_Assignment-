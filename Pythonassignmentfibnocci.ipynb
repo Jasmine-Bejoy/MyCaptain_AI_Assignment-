{
  "nbformat": 4,
  "nbformat_minor": 0,
  "metadata": {
    "colab": {
      "provenance": [],
      "authorship_tag": "ABX9TyNif2nXCXmbfDH//Iv9rnxo",
      "include_colab_link": true
    },
    "kernelspec": {
      "name": "python3",
      "display_name": "Python 3"
    },
    "language_info": {
      "name": "python"
    }
  },
  "cells": [
    {
      "cell_type": "markdown",
      "metadata": {
        "id": "view-in-github",
        "colab_type": "text"
      },
      "source": [
        "<a href=\"https://colab.research.google.com/github/Jasmine-Bejoy/MyCaptain_AI_Assignment-/blob/main/Pythonassignmentfibnocci.ipynb\" target=\"_parent\"><img src=\"https://colab.research.google.com/assets/colab-badge.svg\" alt=\"Open In Colab\"/></a>"
      ]
    },
    {
      "cell_type": "code",
      "execution_count": null,
      "metadata": {
        "colab": {
          "base_uri": "https://localhost:8080/"
        },
        "id": "o6j_GSdxdn0h",
        "outputId": "b022ccdb-5a6b-451e-a3c8-1f9a4d2d2cb8"
      },
      "outputs": [
        {
          "output_type": "stream",
          "name": "stdout",
          "text": [
            "[12, 5, 64]\n",
            "[12, 14, 3]\n"
          ]
        }
      ],
      "source": [
        "list1 = [12,-7,5,64,-14]\n",
        "list2 = [12,14,-95,3]\n",
        "Positive_number1 = [num for num in list1 if num>0]\n",
        "Positive_number2 = [num for num in list2 if num>0]\n",
        "print(Positive_number1 )\n",
        "print(Positive_number2)"
      ]
    },
    {
      "cell_type": "code",
      "source": [
        "def fibonacci(n):\n",
        "\n",
        "    a = 0\n",
        "    b = 1\n",
        "    count = 0\n",
        "    print(\"Fibonacci sequence:\")\n",
        "    while count < n:\n",
        "       print(a, end=' ')\n",
        "       c = a + b\n",
        "       a = b\n",
        "       b = c\n",
        "       count += 1\n",
        "\n",
        "\n",
        "n = 15\n",
        "fibonacci(n)"
      ],
      "metadata": {
        "colab": {
          "base_uri": "https://localhost:8080/"
        },
        "id": "LBUr0OR0JJSR",
        "outputId": "3821ac83-bc82-4ba6-8e9c-8035ebe9aac8"
      },
      "execution_count": 12,
      "outputs": [
        {
          "output_type": "stream",
          "name": "stdout",
          "text": [
            "Fibonacci sequence:\n",
            "0 1 1 2 3 5 8 13 21 34 55 89 144 233 377 "
          ]
        }
      ]
    }
  ]
}